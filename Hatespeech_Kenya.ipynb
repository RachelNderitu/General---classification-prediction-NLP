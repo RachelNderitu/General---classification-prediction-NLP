{
  "nbformat": 4,
  "nbformat_minor": 0,
  "metadata": {
    "colab": {
      "provenance": [],
      "include_colab_link": true
    },
    "kernelspec": {
      "name": "python3",
      "display_name": "Python 3"
    },
    "language_info": {
      "name": "python"
    }
  },
  "cells": [
    {
      "cell_type": "markdown",
      "metadata": {
        "id": "view-in-github",
        "colab_type": "text"
      },
      "source": [
        "<a href=\"https://colab.research.google.com/github/RachelNderitu/RachelNderitu/blob/main/Hatespeech_Kenya.ipynb\" target=\"_parent\"><img src=\"https://colab.research.google.com/assets/colab-badge.svg\" alt=\"Open In Colab\"/></a>"
      ]
    },
    {
      "cell_type": "markdown",
      "source": [
        "The below code reads the file and stores it as a dataframe."
      ],
      "metadata": {
        "id": "KsRtMMBfRV7x"
      }
    },
    {
      "cell_type": "code",
      "execution_count": 13,
      "metadata": {
        "id": "zZciu1JMGNzH"
      },
      "outputs": [],
      "source": [
        "import pandas as pd\n",
        "path='/content/HateSpeech_Kenya.csv'\n",
        "df=pd.read_csv(path,sep=\",\",encoding='utf-8')"
      ]
    },
    {
      "cell_type": "code",
      "source": [
        "# See the first few rows of the data\n",
        "df.head()"
      ],
      "metadata": {
        "colab": {
          "base_uri": "https://localhost:8080/",
          "height": 206
        },
        "id": "5PYWBvWpgt9S",
        "outputId": "05a85f50-65dd-49a4-81e2-a609bd114897"
      },
      "execution_count": 14,
      "outputs": [
        {
          "output_type": "execute_result",
          "data": {
            "text/plain": [
              "   hate_speech  offensive_language  neither  Class  \\\n",
              "0            0                   0        3      0   \n",
              "1            0                   0        3      0   \n",
              "2            0                   0        3      0   \n",
              "3            0                   0        3      0   \n",
              "4            0                   0        3      0   \n",
              "\n",
              "                                               Tweet  \n",
              "0  ['The political elite are in desperation. Ordi...  \n",
              "1  [\"Am just curious the only people who are call...  \n",
              "2  ['USERNAME_3 the area politicians are the one ...  \n",
              "3  ['War expected in Nakuru if something is not d...  \n",
              "4  ['USERNAME_4 tells kikuyus activists that they...  "
            ],
            "text/html": [
              "\n",
              "  <div id=\"df-6d69f5bf-a6c2-4d17-b5c1-3f10675a438d\" class=\"colab-df-container\">\n",
              "    <div>\n",
              "<style scoped>\n",
              "    .dataframe tbody tr th:only-of-type {\n",
              "        vertical-align: middle;\n",
              "    }\n",
              "\n",
              "    .dataframe tbody tr th {\n",
              "        vertical-align: top;\n",
              "    }\n",
              "\n",
              "    .dataframe thead th {\n",
              "        text-align: right;\n",
              "    }\n",
              "</style>\n",
              "<table border=\"1\" class=\"dataframe\">\n",
              "  <thead>\n",
              "    <tr style=\"text-align: right;\">\n",
              "      <th></th>\n",
              "      <th>hate_speech</th>\n",
              "      <th>offensive_language</th>\n",
              "      <th>neither</th>\n",
              "      <th>Class</th>\n",
              "      <th>Tweet</th>\n",
              "    </tr>\n",
              "  </thead>\n",
              "  <tbody>\n",
              "    <tr>\n",
              "      <th>0</th>\n",
              "      <td>0</td>\n",
              "      <td>0</td>\n",
              "      <td>3</td>\n",
              "      <td>0</td>\n",
              "      <td>['The political elite are in desperation. Ordi...</td>\n",
              "    </tr>\n",
              "    <tr>\n",
              "      <th>1</th>\n",
              "      <td>0</td>\n",
              "      <td>0</td>\n",
              "      <td>3</td>\n",
              "      <td>0</td>\n",
              "      <td>[\"Am just curious the only people who are call...</td>\n",
              "    </tr>\n",
              "    <tr>\n",
              "      <th>2</th>\n",
              "      <td>0</td>\n",
              "      <td>0</td>\n",
              "      <td>3</td>\n",
              "      <td>0</td>\n",
              "      <td>['USERNAME_3 the area politicians are the one ...</td>\n",
              "    </tr>\n",
              "    <tr>\n",
              "      <th>3</th>\n",
              "      <td>0</td>\n",
              "      <td>0</td>\n",
              "      <td>3</td>\n",
              "      <td>0</td>\n",
              "      <td>['War expected in Nakuru if something is not d...</td>\n",
              "    </tr>\n",
              "    <tr>\n",
              "      <th>4</th>\n",
              "      <td>0</td>\n",
              "      <td>0</td>\n",
              "      <td>3</td>\n",
              "      <td>0</td>\n",
              "      <td>['USERNAME_4 tells kikuyus activists that they...</td>\n",
              "    </tr>\n",
              "  </tbody>\n",
              "</table>\n",
              "</div>\n",
              "    <div class=\"colab-df-buttons\">\n",
              "\n",
              "  <div class=\"colab-df-container\">\n",
              "    <button class=\"colab-df-convert\" onclick=\"convertToInteractive('df-6d69f5bf-a6c2-4d17-b5c1-3f10675a438d')\"\n",
              "            title=\"Convert this dataframe to an interactive table.\"\n",
              "            style=\"display:none;\">\n",
              "\n",
              "  <svg xmlns=\"http://www.w3.org/2000/svg\" height=\"24px\" viewBox=\"0 -960 960 960\">\n",
              "    <path d=\"M120-120v-720h720v720H120Zm60-500h600v-160H180v160Zm220 220h160v-160H400v160Zm0 220h160v-160H400v160ZM180-400h160v-160H180v160Zm440 0h160v-160H620v160ZM180-180h160v-160H180v160Zm440 0h160v-160H620v160Z\"/>\n",
              "  </svg>\n",
              "    </button>\n",
              "\n",
              "  <style>\n",
              "    .colab-df-container {\n",
              "      display:flex;\n",
              "      gap: 12px;\n",
              "    }\n",
              "\n",
              "    .colab-df-convert {\n",
              "      background-color: #E8F0FE;\n",
              "      border: none;\n",
              "      border-radius: 50%;\n",
              "      cursor: pointer;\n",
              "      display: none;\n",
              "      fill: #1967D2;\n",
              "      height: 32px;\n",
              "      padding: 0 0 0 0;\n",
              "      width: 32px;\n",
              "    }\n",
              "\n",
              "    .colab-df-convert:hover {\n",
              "      background-color: #E2EBFA;\n",
              "      box-shadow: 0px 1px 2px rgba(60, 64, 67, 0.3), 0px 1px 3px 1px rgba(60, 64, 67, 0.15);\n",
              "      fill: #174EA6;\n",
              "    }\n",
              "\n",
              "    .colab-df-buttons div {\n",
              "      margin-bottom: 4px;\n",
              "    }\n",
              "\n",
              "    [theme=dark] .colab-df-convert {\n",
              "      background-color: #3B4455;\n",
              "      fill: #D2E3FC;\n",
              "    }\n",
              "\n",
              "    [theme=dark] .colab-df-convert:hover {\n",
              "      background-color: #434B5C;\n",
              "      box-shadow: 0px 1px 3px 1px rgba(0, 0, 0, 0.15);\n",
              "      filter: drop-shadow(0px 1px 2px rgba(0, 0, 0, 0.3));\n",
              "      fill: #FFFFFF;\n",
              "    }\n",
              "  </style>\n",
              "\n",
              "    <script>\n",
              "      const buttonEl =\n",
              "        document.querySelector('#df-6d69f5bf-a6c2-4d17-b5c1-3f10675a438d button.colab-df-convert');\n",
              "      buttonEl.style.display =\n",
              "        google.colab.kernel.accessAllowed ? 'block' : 'none';\n",
              "\n",
              "      async function convertToInteractive(key) {\n",
              "        const element = document.querySelector('#df-6d69f5bf-a6c2-4d17-b5c1-3f10675a438d');\n",
              "        const dataTable =\n",
              "          await google.colab.kernel.invokeFunction('convertToInteractive',\n",
              "                                                    [key], {});\n",
              "        if (!dataTable) return;\n",
              "\n",
              "        const docLinkHtml = 'Like what you see? Visit the ' +\n",
              "          '<a target=\"_blank\" href=https://colab.research.google.com/notebooks/data_table.ipynb>data table notebook</a>'\n",
              "          + ' to learn more about interactive tables.';\n",
              "        element.innerHTML = '';\n",
              "        dataTable['output_type'] = 'display_data';\n",
              "        await google.colab.output.renderOutput(dataTable, element);\n",
              "        const docLink = document.createElement('div');\n",
              "        docLink.innerHTML = docLinkHtml;\n",
              "        element.appendChild(docLink);\n",
              "      }\n",
              "    </script>\n",
              "  </div>\n",
              "\n",
              "\n",
              "<div id=\"df-17b29107-b013-41c7-8a4f-b5d3e63c7e03\">\n",
              "  <button class=\"colab-df-quickchart\" onclick=\"quickchart('df-17b29107-b013-41c7-8a4f-b5d3e63c7e03')\"\n",
              "            title=\"Suggest charts\"\n",
              "            style=\"display:none;\">\n",
              "\n",
              "<svg xmlns=\"http://www.w3.org/2000/svg\" height=\"24px\"viewBox=\"0 0 24 24\"\n",
              "     width=\"24px\">\n",
              "    <g>\n",
              "        <path d=\"M19 3H5c-1.1 0-2 .9-2 2v14c0 1.1.9 2 2 2h14c1.1 0 2-.9 2-2V5c0-1.1-.9-2-2-2zM9 17H7v-7h2v7zm4 0h-2V7h2v10zm4 0h-2v-4h2v4z\"/>\n",
              "    </g>\n",
              "</svg>\n",
              "  </button>\n",
              "\n",
              "<style>\n",
              "  .colab-df-quickchart {\n",
              "      --bg-color: #E8F0FE;\n",
              "      --fill-color: #1967D2;\n",
              "      --hover-bg-color: #E2EBFA;\n",
              "      --hover-fill-color: #174EA6;\n",
              "      --disabled-fill-color: #AAA;\n",
              "      --disabled-bg-color: #DDD;\n",
              "  }\n",
              "\n",
              "  [theme=dark] .colab-df-quickchart {\n",
              "      --bg-color: #3B4455;\n",
              "      --fill-color: #D2E3FC;\n",
              "      --hover-bg-color: #434B5C;\n",
              "      --hover-fill-color: #FFFFFF;\n",
              "      --disabled-bg-color: #3B4455;\n",
              "      --disabled-fill-color: #666;\n",
              "  }\n",
              "\n",
              "  .colab-df-quickchart {\n",
              "    background-color: var(--bg-color);\n",
              "    border: none;\n",
              "    border-radius: 50%;\n",
              "    cursor: pointer;\n",
              "    display: none;\n",
              "    fill: var(--fill-color);\n",
              "    height: 32px;\n",
              "    padding: 0;\n",
              "    width: 32px;\n",
              "  }\n",
              "\n",
              "  .colab-df-quickchart:hover {\n",
              "    background-color: var(--hover-bg-color);\n",
              "    box-shadow: 0 1px 2px rgba(60, 64, 67, 0.3), 0 1px 3px 1px rgba(60, 64, 67, 0.15);\n",
              "    fill: var(--button-hover-fill-color);\n",
              "  }\n",
              "\n",
              "  .colab-df-quickchart-complete:disabled,\n",
              "  .colab-df-quickchart-complete:disabled:hover {\n",
              "    background-color: var(--disabled-bg-color);\n",
              "    fill: var(--disabled-fill-color);\n",
              "    box-shadow: none;\n",
              "  }\n",
              "\n",
              "  .colab-df-spinner {\n",
              "    border: 2px solid var(--fill-color);\n",
              "    border-color: transparent;\n",
              "    border-bottom-color: var(--fill-color);\n",
              "    animation:\n",
              "      spin 1s steps(1) infinite;\n",
              "  }\n",
              "\n",
              "  @keyframes spin {\n",
              "    0% {\n",
              "      border-color: transparent;\n",
              "      border-bottom-color: var(--fill-color);\n",
              "      border-left-color: var(--fill-color);\n",
              "    }\n",
              "    20% {\n",
              "      border-color: transparent;\n",
              "      border-left-color: var(--fill-color);\n",
              "      border-top-color: var(--fill-color);\n",
              "    }\n",
              "    30% {\n",
              "      border-color: transparent;\n",
              "      border-left-color: var(--fill-color);\n",
              "      border-top-color: var(--fill-color);\n",
              "      border-right-color: var(--fill-color);\n",
              "    }\n",
              "    40% {\n",
              "      border-color: transparent;\n",
              "      border-right-color: var(--fill-color);\n",
              "      border-top-color: var(--fill-color);\n",
              "    }\n",
              "    60% {\n",
              "      border-color: transparent;\n",
              "      border-right-color: var(--fill-color);\n",
              "    }\n",
              "    80% {\n",
              "      border-color: transparent;\n",
              "      border-right-color: var(--fill-color);\n",
              "      border-bottom-color: var(--fill-color);\n",
              "    }\n",
              "    90% {\n",
              "      border-color: transparent;\n",
              "      border-bottom-color: var(--fill-color);\n",
              "    }\n",
              "  }\n",
              "</style>\n",
              "\n",
              "  <script>\n",
              "    async function quickchart(key) {\n",
              "      const quickchartButtonEl =\n",
              "        document.querySelector('#' + key + ' button');\n",
              "      quickchartButtonEl.disabled = true;  // To prevent multiple clicks.\n",
              "      quickchartButtonEl.classList.add('colab-df-spinner');\n",
              "      try {\n",
              "        const charts = await google.colab.kernel.invokeFunction(\n",
              "            'suggestCharts', [key], {});\n",
              "      } catch (error) {\n",
              "        console.error('Error during call to suggestCharts:', error);\n",
              "      }\n",
              "      quickchartButtonEl.classList.remove('colab-df-spinner');\n",
              "      quickchartButtonEl.classList.add('colab-df-quickchart-complete');\n",
              "    }\n",
              "    (() => {\n",
              "      let quickchartButtonEl =\n",
              "        document.querySelector('#df-17b29107-b013-41c7-8a4f-b5d3e63c7e03 button');\n",
              "      quickchartButtonEl.style.display =\n",
              "        google.colab.kernel.accessAllowed ? 'block' : 'none';\n",
              "    })();\n",
              "  </script>\n",
              "</div>\n",
              "\n",
              "    </div>\n",
              "  </div>\n"
            ],
            "application/vnd.google.colaboratory.intrinsic+json": {
              "type": "dataframe",
              "variable_name": "df",
              "summary": "{\n  \"name\": \"df\",\n  \"rows\": 48076,\n  \"fields\": [\n    {\n      \"column\": \"hate_speech\",\n      \"properties\": {\n        \"dtype\": \"number\",\n        \"std\": 0,\n        \"min\": 0,\n        \"max\": 6,\n        \"num_unique_values\": 6,\n        \"samples\": [\n          0,\n          3,\n          1\n        ],\n        \"semantic_type\": \"\",\n        \"description\": \"\"\n      }\n    },\n    {\n      \"column\": \"offensive_language\",\n      \"properties\": {\n        \"dtype\": \"number\",\n        \"std\": 0,\n        \"min\": 0,\n        \"max\": 6,\n        \"num_unique_values\": 7,\n        \"samples\": [\n          0,\n          3,\n          2\n        ],\n        \"semantic_type\": \"\",\n        \"description\": \"\"\n      }\n    },\n    {\n      \"column\": \"neither\",\n      \"properties\": {\n        \"dtype\": \"number\",\n        \"std\": 1,\n        \"min\": 0,\n        \"max\": 8,\n        \"num_unique_values\": 9,\n        \"samples\": [\n          1,\n          4,\n          8\n        ],\n        \"semantic_type\": \"\",\n        \"description\": \"\"\n      }\n    },\n    {\n      \"column\": \"Class\",\n      \"properties\": {\n        \"dtype\": \"number\",\n        \"std\": 0,\n        \"min\": 0,\n        \"max\": 2,\n        \"num_unique_values\": 3,\n        \"samples\": [\n          0,\n          1,\n          2\n        ],\n        \"semantic_type\": \"\",\n        \"description\": \"\"\n      }\n    },\n    {\n      \"column\": \"Tweet\",\n      \"properties\": {\n        \"dtype\": \"string\",\n        \"num_unique_values\": 48076,\n        \"samples\": [\n          \"['USERNAME_417 on something about religion and not jokes']\",\n          \"['Kenya belongs to Kikuyus & Kalenjins all others are slaves only Kikuyus are allowed to rule- Uhuru Kenyatta.']\",\n          \"[\\\"This is one of my fav weddings even though it's straight. They are both photographers that photograph the Masai in Kenya.\\\"]\"\n        ],\n        \"semantic_type\": \"\",\n        \"description\": \"\"\n      }\n    }\n  ]\n}"
            }
          },
          "metadata": {},
          "execution_count": 14
        }
      ]
    },
    {
      "cell_type": "code",
      "source": [
        "#To view the columns names\n",
        "df.columns\n"
      ],
      "metadata": {
        "colab": {
          "base_uri": "https://localhost:8080/"
        },
        "id": "IkrUepIzgwSl",
        "outputId": "8baaa619-2fcb-4786-eadd-676211ddda63"
      },
      "execution_count": 15,
      "outputs": [
        {
          "output_type": "execute_result",
          "data": {
            "text/plain": [
              "Index(['hate_speech', 'offensive_language', 'neither', 'Class', 'Tweet'], dtype='object')"
            ]
          },
          "metadata": {},
          "execution_count": 15
        }
      ]
    },
    {
      "cell_type": "markdown",
      "source": [
        "The below code handles data cleaning; removing duplicates and missing values.\n"
      ],
      "metadata": {
        "id": "N7BsT4_4Rlc8"
      }
    },
    {
      "cell_type": "code",
      "source": [
        "#Data Cleaning and text normalization\n",
        "#Remove duplicates\n",
        "df.drop_duplicates(inplace=True)\n",
        "\n",
        "#Handling missing values\n",
        "df.dropna(inplace=True)"
      ],
      "metadata": {
        "id": "w1ZrP-iYg1iz"
      },
      "execution_count": 16,
      "outputs": []
    },
    {
      "cell_type": "markdown",
      "source": [
        "The below code does the following:\n",
        "\n",
        "1. **Removal of Punctuation and Capitalization**\n",
        "   - **Removal of Punctuation** - Eliminates characters like periods, commas, and exclamation marks from the text to clean it up.\n",
        "   - **Capitalization** - Converts all text to lowercase to ensure uniformity and prevent the model from treating the same word in different cases as distinct.\n",
        "\n",
        "2. **Tokenizing**\n",
        "   - Splits the text into smaller units called tokens, which are typically words or phrases. This makes it easier to analyze and process the text.\n",
        "\n",
        "3. **Removal of Stopwords**\n",
        "   - **Stopwords** - Common words (like \"and,\" \"the,\" \"is\") that are often removed because they carry little meaningful information for analysis.\n",
        "\n",
        "4. **Stemming**\n",
        "   - Reduces words to their root form (e.g., \"running\" to \"run\"). This helps in normalizing different forms of a word to a common base form for easier comparison and analysis."
      ],
      "metadata": {
        "id": "X-kgGWUSQ5XF"
      }
    },
    {
      "cell_type": "code",
      "source": [
        "import pandas as pd\n",
        "import re\n",
        "import unicodedata\n",
        "from nltk.corpus import stopwords\n",
        "import nltk\n",
        "from nltk.stem import PorterStemmer\n",
        "nltk.download('stopwords')\n",
        "\n",
        "## 1. Removal of punctuation and capitlization\n",
        "## 2. Tokenizing\n",
        "## 3. Removal of stopwords\n",
        "## 4. Stemming\n",
        "\n",
        "# Define stopwords and stemmer\n",
        "stopwords_list = stopwords.words(\"english\")\n",
        "other_exclusions = [\"#ff\", \"ff\", \"rt\"]\n",
        "stopwords_list.extend(other_exclusions)\n",
        "stemmer = PorterStemmer()\n",
        "\n",
        "def preprocess(Tweet):\n",
        "    # Removal of punctuation, numbers, and extra spaces\n",
        "    tweet = re.sub(r'[^a-zA-Z]', ' ', Tweet)\n",
        "    tweet = re.sub(r'\\s+', ' ', tweet)\n",
        "    tweet = tweet.strip()\n",
        "    tweet = re.sub(r'\\d+(\\.\\d+)?', 'numbr', tweet)\n",
        "    tweet = tweet.lower()\n",
        "\n",
        "    # Tokenizing\n",
        "    tokens = tweet.split()\n",
        "\n",
        "    # Removal of stopwords and stemming\n",
        "    tokens = [stemmer.stem(token) for token in tokens if token not in stopwords_list]\n",
        "\n",
        "    return ' '.join(tokens)\n",
        "\n",
        "df['processed_tweets'] = df['Tweet'].apply(preprocess)\n",
        "\n",
        "print(df[[\"Tweet\",\"processed_tweets\"]].head(10))"
      ],
      "metadata": {
        "colab": {
          "base_uri": "https://localhost:8080/"
        },
        "id": "BaHlySYkg6Eo",
        "outputId": "57849ccd-12fd-4f7d-d0aa-832db75b32e9"
      },
      "execution_count": 17,
      "outputs": [
        {
          "output_type": "stream",
          "name": "stderr",
          "text": [
            "[nltk_data] Downloading package stopwords to /root/nltk_data...\n",
            "[nltk_data]   Package stopwords is already up-to-date!\n"
          ]
        },
        {
          "output_type": "stream",
          "name": "stdout",
          "text": [
            "                                               Tweet  \\\n",
            "0  ['The political elite are in desperation. Ordi...   \n",
            "1  [\"Am just curious the only people who are call...   \n",
            "2  ['USERNAME_3 the area politicians are the one ...   \n",
            "3  ['War expected in Nakuru if something is not d...   \n",
            "4  ['USERNAME_4 tells kikuyus activists that they...   \n",
            "5  ['USERNAME_6 USERNAME_7 Nowdays when you go to...   \n",
            "6  ['We the kalenjins are planning to part ways w...   \n",
            "7  ['r u sure kikuyus are the ones who want the w...   \n",
            "8  ['According to Wandimi a staunch USERNAME_8 su...   \n",
            "9  [\"it's not tribalism...but kisiis kalenjins an...   \n",
            "\n",
            "                                    processed_tweets  \n",
            "0  polit elit desper ordinari kalenjin suspici ki...  \n",
            "1  curiou peopl call old mad kikuyu kalenjin good...  \n",
            "2  usernam area politician one blame coz r insit ...  \n",
            "3  war expect nakuru someth done luo given seven ...  \n",
            "4  usernam tell kikuyu activist target target use...  \n",
            "5  usernam usernam nowday go seek justic polic st...  \n",
            "6  kalenjin plan part way tna sooner later watch ...  \n",
            "7  r u sure kikuyu one want war guy hv lot lose k...  \n",
            "8         accord wandimi staunch usernam support luo  \n",
            "9                        tribal kisii kalenjin luhya  \n"
          ]
        }
      ]
    },
    {
      "cell_type": "markdown",
      "source": [
        "The below code converts text data into numerical features using the TF-IDF method. The result, tfidf, is a matrix of numerical features that can be used for further analysis."
      ],
      "metadata": {
        "id": "2b7YjfPPSNJT"
      }
    },
    {
      "cell_type": "code",
      "source": [
        "# To convert the text data into numerical features using TF-IDF\n",
        "from sklearn.feature_extraction.text import TfidfVectorizer\n",
        "\n",
        "# TF-IDF Vectorization\n",
        "tfidf_vectorizer = TfidfVectorizer(ngram_range=(1, 2), max_df=0.75, min_df=5, max_features=10000)\n",
        "\n",
        "# TF-IDF feature matrix\n",
        "tfidf = tfidf_vectorizer.fit_transform(df['processed_tweets'] )"
      ],
      "metadata": {
        "id": "SdLySfEPhU4Y"
      },
      "execution_count": 18,
      "outputs": []
    },
    {
      "cell_type": "markdown",
      "source": [
        "The below code splits the dataset into features and target.\n",
        "It also splits the data into training and testing sets for further use in the logistic model.\n",
        "\n"
      ],
      "metadata": {
        "id": "_n1NGCZeSr7_"
      }
    },
    {
      "cell_type": "code",
      "source": [
        "from sklearn.linear_model import LogisticRegression\n",
        "from sklearn import metrics\n",
        "from sklearn.model_selection import train_test_split\n",
        "from sklearn.metrics import classification_report, accuracy_score\n",
        "\n",
        "# Split the dataset into features (X) and target (y)\n",
        "X = tfidf\n",
        "y = df['Class'].astype(int)\n",
        "\n",
        "# Split dataset\n",
        "X_train, X_test, y_train, y_test = train_test_split(X, y, random_state=42, test_size=0.2)\n"
      ],
      "metadata": {
        "id": "2lx3gxP5hYn_"
      },
      "execution_count": 19,
      "outputs": []
    },
    {
      "cell_type": "markdown",
      "source": [
        "The code below makes a logistic regression model, trains it, makes predictions, and evaluates it using the various metrics - precision, recall, f1-score and support."
      ],
      "metadata": {
        "id": "WNtb0qwjT1pb"
      }
    },
    {
      "cell_type": "code",
      "source": [
        "# Logistic Regression\n",
        "logistic_regression_model = LogisticRegression()\n",
        "logistic_regression_model.fit(X_train, y_train)\n",
        "y_pred_lr = logistic_regression_model.predict(X_test)\n",
        "print(\"Logistic Regression Classification Report:\")\n",
        "print(classification_report(y_test, y_pred_lr))\n",
        "acc_lr = accuracy_score(y_test, y_pred_lr)\n",
        "print(\"Logistic Regression Accuracy Score:\", acc_lr)"
      ],
      "metadata": {
        "colab": {
          "base_uri": "https://localhost:8080/"
        },
        "id": "33O21g1kheay",
        "outputId": "97a2bd48-e27f-40a6-c5c3-66f2fb95d0aa"
      },
      "execution_count": 20,
      "outputs": [
        {
          "output_type": "stream",
          "name": "stdout",
          "text": [
            "Logistic Regression Classification Report:\n",
            "              precision    recall  f1-score   support\n",
            "\n",
            "           0       0.77      0.97      0.86      7166\n",
            "           1       0.44      0.12      0.19      1806\n",
            "           2       0.47      0.11      0.18       644\n",
            "\n",
            "    accuracy                           0.75      9616\n",
            "   macro avg       0.56      0.40      0.41      9616\n",
            "weighted avg       0.69      0.75      0.69      9616\n",
            "\n",
            "Logistic Regression Accuracy Score: 0.7516638935108153\n"
          ]
        },
        {
          "output_type": "stream",
          "name": "stderr",
          "text": [
            "/usr/local/lib/python3.10/dist-packages/sklearn/linear_model/_logistic.py:458: ConvergenceWarning: lbfgs failed to converge (status=1):\n",
            "STOP: TOTAL NO. of ITERATIONS REACHED LIMIT.\n",
            "\n",
            "Increase the number of iterations (max_iter) or scale the data as shown in:\n",
            "    https://scikit-learn.org/stable/modules/preprocessing.html\n",
            "Please also refer to the documentation for alternative solver options:\n",
            "    https://scikit-learn.org/stable/modules/linear_model.html#logistic-regression\n",
            "  n_iter_i = _check_optimize_result(\n"
          ]
        }
      ]
    },
    {
      "cell_type": "markdown",
      "source": [
        "The code below makes a support vector machine classifier, trains it, makes predictions, and evaluates it using the various metrics - precision, recall, f1-score and support."
      ],
      "metadata": {
        "id": "bOH5L5uOUduU"
      }
    },
    {
      "cell_type": "code",
      "execution_count": 21,
      "metadata": {
        "id": "cDXuUbe3Gv8K",
        "colab": {
          "base_uri": "https://localhost:8080/"
        },
        "outputId": "53dcc1bb-85cc-4f65-8df6-9f591c81a8ec"
      },
      "outputs": [
        {
          "output_type": "stream",
          "name": "stdout",
          "text": [
            "SVM Classification Report:\n",
            "              precision    recall  f1-score   support\n",
            "\n",
            "           0       0.76      0.99      0.86      7166\n",
            "           1       0.49      0.06      0.11      1806\n",
            "           2       0.49      0.07      0.13       644\n",
            "\n",
            "    accuracy                           0.75      9616\n",
            "   macro avg       0.58      0.37      0.37      9616\n",
            "weighted avg       0.69      0.75      0.67      9616\n",
            "\n",
            "SVM Accuracy Score: 0.7510399334442596\n"
          ]
        }
      ],
      "source": [
        "from sklearn.svm import SVC\n",
        "\n",
        "# Using the SVM classifier\n",
        "svm_classifier = SVC(kernel='linear')\n",
        "svm_classifier.fit(X_train, y_train)\n",
        "y_pred_svm = svm_classifier.predict(X_test)\n",
        "print(\"SVM Classification Report:\")\n",
        "print(classification_report(y_test, y_pred_svm))\n",
        "acc_svm = accuracy_score(y_test, y_pred_svm)\n",
        "print(\"SVM Accuracy Score:\", acc_svm)"
      ]
    },
    {
      "cell_type": "code",
      "source": [],
      "metadata": {
        "id": "zP4ESMQKkkBu"
      },
      "execution_count": null,
      "outputs": []
    },
    {
      "cell_type": "markdown",
      "source": [
        "I shall use the logistic regression model to make predictions, as it has a tad higher accuracy score.\n",
        "The code below demonstrates how to predict the class of a new tweet using the trained logistic regression model in the following steps:\n",
        "1. Preprocesses the new tweet\n",
        "2. Transforms the processed tweet\n",
        "3. Makes a prediction\n",
        "4. Maps the predicted class to a label"
      ],
      "metadata": {
        "id": "mNaYkiItU6Fl"
      }
    },
    {
      "cell_type": "code",
      "execution_count": 22,
      "metadata": {
        "id": "GsD99-lTSAKd",
        "colab": {
          "base_uri": "https://localhost:8080/"
        },
        "outputId": "33d30b88-4550-49f7-f431-d8d2151d2ba2"
      },
      "outputs": [
        {
          "output_type": "stream",
          "name": "stdout",
          "text": [
            "Predicted class for the new tweet: not hate speech\n",
            "Predicted class for the new tweet: offensive\n",
            "Predicted class for the new tweet: hate speech\n"
          ]
        }
      ],
      "source": [
        "# Prediction example 1\n",
        "new_tweet = \"She likes me.\"\n",
        "new_processed_tweet = preprocess(new_tweet)\n",
        "new_tfidf = tfidf_vectorizer.transform([new_processed_tweet])\n",
        "prediction = logistic_regression_model.predict(new_tfidf)\n",
        "# Map predicted class to corresponding label\n",
        "if prediction[0] == 0:\n",
        "    print(\"Predicted class for the new tweet:\", \"not hate speech\")\n",
        "elif prediction[0] == 1:\n",
        "    print(\"Predicted class for the new tweet:\", \"offensive\")\n",
        "else:\n",
        "    print(\"Predicted class for the new tweet:\", \"hate speech\")\n",
        "\n",
        "# Prediction example 2\n",
        "new_tweet2 = \"She is stupid.\"\n",
        "new_processed_tweet2 = preprocess(new_tweet2)\n",
        "new_tfidf2 = tfidf_vectorizer.transform([new_processed_tweet2])\n",
        "prediction2 = logistic_regression_model.predict(new_tfidf2)\n",
        "# Map predicted class to corresponding label\n",
        "if prediction2[0] == 0:\n",
        "    print(\"Predicted class for the new tweet:\", \"not hate speech\")\n",
        "elif prediction2[0] == 1:\n",
        "    print(\"Predicted class for the new tweet:\", \"offensive\")\n",
        "else:\n",
        "    print(\"Predicted class for the new tweet:\", \"hate speech\")\n",
        "\n",
        "# Prediction example 3\n",
        "new_tweet3 = \"Kamba are so stupid.\"\n",
        "new_processed_tweet3 = preprocess(new_tweet3)\n",
        "new_tfidf3 = tfidf_vectorizer.transform([new_processed_tweet3])\n",
        "prediction3 = logistic_regression_model.predict(new_tfidf3)\n",
        "# Map predicted class to corresponding label\n",
        "if prediction3[0] == 0:\n",
        "    print(\"Predicted class for the new tweet:\", \"not hate speech\")\n",
        "elif prediction3[0] == 1:\n",
        "    print(\"Predicted class for the new tweet:\", \"offensive\")\n",
        "else:\n",
        "    print(\"Predicted class for the new tweet:\", \"hate speech\")\n"
      ]
    }
  ]
}